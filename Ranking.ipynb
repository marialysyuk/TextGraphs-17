{
  "nbformat": 4,
  "nbformat_minor": 0,
  "metadata": {
    "colab": {
      "provenance": []
    },
    "kernelspec": {
      "name": "python3",
      "display_name": "Python 3"
    },
    "language_info": {
      "name": "python"
    }
  },
  "cells": [
    {
      "cell_type": "code",
      "execution_count": null,
      "metadata": {
        "id": "I9o45QWN2MHw"
      },
      "outputs": [],
      "source": [
        "! pip install editdistance"
      ]
    },
    {
      "cell_type": "markdown",
      "source": [
        "### Preparing file for the inference to Konstruktor\n"
      ],
      "metadata": {
        "id": "c5XMtdcHtA1N"
      }
    },
    {
      "cell_type": "code",
      "source": [
        "import pandas as pd\n",
        "import ast\n",
        "from tqdm import tqdm\n",
        "import editdistance\n",
        "import json\n",
        "\n",
        "\n",
        "train = pd.read_csv('test.tsv', sep='\\t')"
      ],
      "metadata": {
        "id": "kZ9n_nlQswwk"
      },
      "execution_count": null,
      "outputs": []
    },
    {
      "cell_type": "code",
      "source": [
        "unique_questions_test = train.question.unique()\n",
        "\n",
        "unique_questions_dict_test = dict()\n",
        "for i in range(len(unique_questions_test)):\n",
        "    unique_questions_dict_test[unique_questions_test[i]] = i\n",
        "\n",
        "for i in range(len(train)):\n",
        "    train.loc[i, 'question_id'] = unique_questions_dict_test[train.loc[i, 'question']]"
      ],
      "metadata": {
        "id": "BmCzIfyz2RKv"
      },
      "execution_count": null,
      "outputs": []
    },
    {
      "cell_type": "code",
      "source": [
        "for i in tqdm(range(len(train))):\n",
        "\n",
        "        train_subset = train.query('sample_id == @i').reset_index(drop=True)\n",
        "\n",
        "        cur_dict = dict()\n",
        "        cur_dict_ents_names = dict()\n",
        "        relations = []\n",
        "        cur_dict_ents_rels = dict()\n",
        "        for j in range(len(train_subset)):\n",
        "            nodes = ast.literal_eval(train_subset.loc[j, 'graph'])['nodes']\n",
        "            links = ast.literal_eval(train_subset.loc[j, 'graph'])['links']\n",
        "\n",
        "            for k in range(len(nodes)):\n",
        "                if nodes[k]['type'] == 'QUESTIONS_ENTITY':\n",
        "                    cur_dict[nodes[k]['id']] = nodes[k]['label']\n",
        "                    cur_dict_ents_names[nodes[k]['label']] = nodes[k]['name_']\n",
        "            for q in range(len(links)):\n",
        "                source = links[q]['source']\n",
        "                relation = links[q]['label']\n",
        "                if source in cur_dict:\n",
        "                    if cur_dict[source] in cur_dict_ents_rels:\n",
        "                        cur_dict_ents_rels[cur_dict[source]].append(relation)\n",
        "                    else:\n",
        "                         cur_dict_ents_rels[cur_dict[source]] = [relation]\n",
        "\n",
        "        for k in range(len(cur_dict_ents_rels.keys())):\n",
        "            cur_dict_ents_rels[list(cur_dict_ents_rels.keys())[k]]= list(set(cur_dict_ents_rels[list(cur_dict_ents_rels.keys())[k]]))\n",
        "\n",
        "        train.loc[i, 'ques_ent_rels'] = str(cur_dict_ents_rels)\n"
      ],
      "metadata": {
        "colab": {
          "base_uri": "https://localhost:8080/"
        },
        "id": "JOSXmGOs2iKh",
        "outputId": "7a55d389-355e-4fca-9be5-43465587ac83"
      },
      "execution_count": null,
      "outputs": [
        {
          "output_type": "stream",
          "name": "stderr",
          "text": [
            "100%|██████████| 10961/10961 [00:48<00:00, 224.56it/s]\n"
          ]
        }
      ]
    },
    {
      "cell_type": "code",
      "source": [
        "for i in tqdm(range(len(train))):\n",
        "\n",
        "        train_subset = train.query('sample_id == @i').reset_index(drop=True)\n",
        "\n",
        "        cur_dict = dict()\n",
        "        cur_dict_ents_names = dict()\n",
        "        relations = []\n",
        "        cur_dict_ents_rels = dict()\n",
        "        for j in range(len(train_subset)):\n",
        "            nodes = ast.literal_eval(train_subset.loc[j, 'graph'])['nodes']\n",
        "            links = ast.literal_eval(train_subset.loc[j, 'graph'])['links']\n",
        "\n",
        "            for k in range(len(nodes)):\n",
        "                if nodes[k]['type'] == 'QUESTIONS_ENTITY':\n",
        "                    cur_dict[nodes[k]['id']] = nodes[k]['label']\n",
        "                    cur_dict_ents_names[nodes[k]['label']] = nodes[k]['name_']\n",
        "            for q in range(len(links)):\n",
        "                source = links[q]['source']\n",
        "                target = links[q]['target']\n",
        "                relation = links[q]['label']\n",
        "                if target in cur_dict:\n",
        "                    if cur_dict[target] in cur_dict_ents_rels:\n",
        "                        cur_dict_ents_rels[cur_dict[target]].append(relation)\n",
        "                    else:\n",
        "                         cur_dict_ents_rels[cur_dict[target]] = [relation]\n",
        "        for k in range(len(cur_dict_ents_rels.keys())):\n",
        "            cur_dict_ents_rels[list(cur_dict_ents_rels.keys())[k]]= list(set(cur_dict_ents_rels[list(cur_dict_ents_rels.keys())[k]]))\n",
        "\n",
        "        if train.loc[i, 'ques_ent_rels'] == \"{}\":\n",
        "            train.loc[i, 'ques_ent_rels'] = str(cur_dict_ents_rels)"
      ],
      "metadata": {
        "colab": {
          "base_uri": "https://localhost:8080/"
        },
        "id": "WTn0sBL92i5P",
        "outputId": "cddcce59-a617-43a2-9c2f-30e51ffee4e5"
      },
      "execution_count": null,
      "outputs": [
        {
          "output_type": "stream",
          "name": "stderr",
          "text": [
            "100%|██████████| 10961/10961 [00:38<00:00, 281.44it/s]\n"
          ]
        }
      ]
    },
    {
      "cell_type": "code",
      "source": [
        "train_triples = pd.DataFrame(columns = [\"question\", \"questionEntity\",  \"questionEntityId\",\n",
        "                                        \"ques_ent_rels\", \"question_id\"])\n",
        "\n",
        "for k in tqdm(range(1000)):\n",
        "    train_subset = train.query(\"question_id == @k\").reset_index(drop=True)\n",
        "\n",
        "    cur_dict = dict()\n",
        "\n",
        "    for j in range(len(train_subset)):\n",
        "      keys = list(ast.literal_eval(train_subset.loc[j, \"ques_ent_rels\"]).keys())\n",
        "      for key in keys:\n",
        "        if key in cur_dict and ast.literal_eval(train_subset.loc[j, \"ques_ent_rels\"])[key][0] not in cur_dict[key]:\n",
        "          cur_dict[key].append(ast.literal_eval(train_subset.loc[j, \"ques_ent_rels\"])[key][0])\n",
        "        elif key not in cur_dict :\n",
        "          cur_dict[key] = ast.literal_eval(train_subset.loc[j, \"ques_ent_rels\"])[key]\n",
        "    train_triples.loc[k, \"question\"] = train_subset.loc[0, 'question']\n",
        "    train_triples.loc[k, \"questionEntity\"] = train_subset.loc[0, \"questionEntity\"]\n",
        "    train_triples.loc[k, \"questionEntityId\"] = train_subset.loc[0, \"questionEntityId\"]\n",
        "    train_triples.loc[k, \"ques_ent_rels\"] = str(cur_dict)\n",
        "    train_triples.loc[k, \"question_id\"] = train_subset.loc[0, \"question_id\"]"
      ],
      "metadata": {
        "colab": {
          "base_uri": "https://localhost:8080/"
        },
        "id": "OK4GRZ7U4Agp",
        "outputId": "234b921d-f7aa-489a-d495-d50f2e199fb3"
      },
      "execution_count": null,
      "outputs": [
        {
          "output_type": "stream",
          "name": "stderr",
          "text": [
            "100%|██████████| 1000/1000 [00:05<00:00, 173.14it/s]\n"
          ]
        }
      ]
    },
    {
      "cell_type": "code",
      "source": [
        "for p in range(len(train_triples)):\n",
        "  if None in ast.literal_eval(train_triples.loc[p, \"ques_ent_rels\"]):\n",
        "      my_dict =  ast.literal_eval(train_triples.loc[p, \"ques_ent_rels\"])\n",
        "      new_dict = my_dict.pop(None)\n",
        "      train_triples.loc[p, \"ques_ent_rels\"] = str(my_dict)"
      ],
      "metadata": {
        "id": "pzmdPPAtjyd2"
      },
      "execution_count": null,
      "outputs": []
    },
    {
      "cell_type": "code",
      "source": [
        "for k in tqdm(range(len(train_triples))):\n",
        "   cur_dict = dict()\n",
        "   ques_ents_lbl = train_triples.loc[k, 'questionEntity'].strip().split(', ')\n",
        "   ques_ents_id = train_triples.loc[k, 'questionEntityId'].strip().split(', ')\n",
        "   for q in range(len(ques_ents_lbl)):\n",
        "      cur_dict[ques_ents_lbl[q]] = ques_ents_id[q]\n",
        "   train_triples.loc[k, 'ents_dict'] = str(cur_dict)"
      ],
      "metadata": {
        "colab": {
          "base_uri": "https://localhost:8080/"
        },
        "id": "CD7AfUGAanBc",
        "outputId": "2fdac037-dfe9-443a-b8e0-8e112b781ede"
      },
      "execution_count": null,
      "outputs": [
        {
          "output_type": "stream",
          "name": "stderr",
          "text": [
            "100%|██████████| 1000/1000 [00:00<00:00, 6065.52it/s]\n"
          ]
        }
      ]
    },
    {
      "cell_type": "code",
      "source": [
        "for j in tqdm(range(len(train_triples))):\n",
        "\n",
        "    cur_dict = ast.literal_eval(train_triples.loc[j, 'ques_ent_rels'])\n",
        "    ents_dict = ast.literal_eval(train_triples.loc[j, 'ents_dict'])\n",
        "    keys = list(ast.literal_eval(train_triples.loc[j, 'ques_ent_rels']).keys())\n",
        "    keys_dict = list(ents_dict.keys())\n",
        "    for key in keys:\n",
        "      vals = cur_dict[key]\n",
        "      del cur_dict[key]\n",
        "\n",
        "      for key_dict in keys_dict:\n",
        "        if key_dict.lower() == key.lower():\n",
        "          cur_dict[ents_dict[key_dict]] = vals\n",
        "\n",
        "    train_triples.loc[j, 'ques_ent_rels_id'] = str(cur_dict)"
      ],
      "metadata": {
        "colab": {
          "base_uri": "https://localhost:8080/"
        },
        "id": "_XKaseaDbsr6",
        "outputId": "7078427b-bc1e-46d8-e0e7-b0ba193e00db"
      },
      "execution_count": null,
      "outputs": [
        {
          "output_type": "stream",
          "name": "stderr",
          "text": [
            "100%|██████████| 1000/1000 [00:00<00:00, 3155.34it/s]\n"
          ]
        }
      ]
    },
    {
      "cell_type": "code",
      "source": [
        "train_triples_by_one = pd.DataFrame(columns = [\"question\", \"questionEntity\",  \"questionEntityId\",\n",
        "                                               \"ques_ent_rels\", \"question_id\"])"
      ],
      "metadata": {
        "id": "u_6fouwLVU3J"
      },
      "execution_count": null,
      "outputs": []
    },
    {
      "cell_type": "code",
      "source": [
        "train_triples.loc[840, 'ques_ent_rels'] = str({'United States': ['head of government', 'country']})"
      ],
      "metadata": {
        "id": "Dt1ShiHhvGBm"
      },
      "execution_count": null,
      "outputs": []
    },
    {
      "cell_type": "code",
      "source": [
        "train_triples.loc[879, 'ques_ent_rels'] = str({'United States': ['contains the administrative territorial entity', 'country'],\n",
        "                                               'Texas': ['country', 'described by source']\n",
        "                                               })"
      ],
      "metadata": {
        "id": "N0DwAoQCvc6M"
      },
      "execution_count": null,
      "outputs": []
    },
    {
      "cell_type": "code",
      "source": [
        "cur_ind = 0\n",
        "\n",
        "for i in tqdm(range(1000)):\n",
        "  train_ids = list(ast.literal_eval(train_triples.loc[i, 'ques_ent_rels']).keys())\n",
        "\n",
        "  for j in range(len(train_ids)):\n",
        "\n",
        "    cur_ques_ent = train_ids[j]\n",
        "    cur_ques_ent_id = train_triples.loc[i, 'questionEntityId'].split(', ')\n",
        "    ent_rels = ast.literal_eval(train_triples.loc[i, 'ques_ent_rels'])[train_ids[j]]\n",
        "    train_triples_by_one.loc[cur_ind, 'question'] = train_triples.loc[i, 'question']\n",
        "    train_triples_by_one.loc[cur_ind, 'questionEntity'] = cur_ques_ent\n",
        "    train_triples_by_one.loc[cur_ind, 'questionEntityId'] = cur_ques_ent_id[j]\n",
        "    train_triples_by_one.loc[cur_ind, 'ques_ent_rels'] = str({cur_ques_ent_id[j]: ent_rels})\n",
        "    train_triples_by_one.loc[cur_ind, 'question_id'] = train_triples.loc[i, 'question_id']\n",
        "    cur_ind += 1"
      ],
      "metadata": {
        "colab": {
          "base_uri": "https://localhost:8080/"
        },
        "id": "gFUMwUG1qoRc",
        "outputId": "cf39179a-4bb3-4be6-f2a7-1e1a75b81f3e"
      },
      "execution_count": null,
      "outputs": [
        {
          "output_type": "stream",
          "name": "stderr",
          "text": [
            "100%|██████████| 1000/1000 [00:01<00:00, 779.85it/s]\n"
          ]
        }
      ]
    },
    {
      "cell_type": "code",
      "source": [
        "for i in range(len(train_triples_by_one)):\n",
        "   cur_ent = train_triples_by_one.loc[i, 'questionEntity']\n",
        "   start_ind =  train_triples_by_one.loc[i, 'question'].find(cur_ent)\n",
        "   train_triples_by_one.loc[i, 'question_rank'] = train_triples_by_one.loc[i, 'question'][:start_ind]+'<e>'+train_triples_by_one.loc[i, 'question'][start_ind+len(cur_ent):]"
      ],
      "metadata": {
        "id": "06Cx1UiKcYE_"
      },
      "execution_count": null,
      "outputs": []
    },
    {
      "cell_type": "code",
      "source": [
        "for i in range(len(train_triples_by_one)):\n",
        "\n",
        "    key = list(ast.literal_eval(train_triples_by_one.loc[i, 'ques_ent_rels']).keys())[0]\n",
        "    train_triples_by_one.loc[i, 'relations'] = '; '.join(ast.literal_eval(train_triples_by_one.loc[i, 'ques_ent_rels'])[key])"
      ],
      "metadata": {
        "id": "EoutaSw7eCa3"
      },
      "execution_count": null,
      "outputs": []
    },
    {
      "cell_type": "code",
      "source": [
        "question_rank = []\n",
        "path = []\n",
        "scores_en_rank = []\n",
        "origin_question = []\n",
        "relations = []"
      ],
      "metadata": {
        "id": "3L7t-pUlcajz"
      },
      "execution_count": null,
      "outputs": []
    },
    {
      "cell_type": "code",
      "source": [
        "for i in range(len(train_triples_by_one)):\n",
        "\n",
        "    question_rank.append(train_triples_by_one.loc[i, 'question_rank'])\n",
        "    origin_question.append(train_triples_by_one.loc[i, 'question'])\n",
        "    path.append(ast.literal_eval(train_triples_by_one.loc[i, 'ques_ent_rels']))\n",
        "    relations.append(train_triples_by_one.loc[i, 'relations'].split('; '))\n",
        "    scores_en_rank.append([1])"
      ],
      "metadata": {
        "id": "Pn2sONj8e6qB"
      },
      "execution_count": null,
      "outputs": []
    },
    {
      "cell_type": "code",
      "source": [
        "test_json = dict()\n",
        "test_json[\"questions\"]= question_rank\n",
        "test_json[\"paths\"]= path\n",
        "test_json[\"scores\"]= scores_en_rank\n",
        "test_json[\"origin_questions\"]=origin_question\n",
        "test_json[\"relations\"]= relations"
      ],
      "metadata": {
        "id": "WKyIIw_p_M73"
      },
      "execution_count": null,
      "outputs": []
    },
    {
      "cell_type": "code",
      "source": [
        "len(test_json['questions'])"
      ],
      "metadata": {
        "colab": {
          "base_uri": "https://localhost:8080/"
        },
        "id": "bUwflGRLotwO",
        "outputId": "a77ef0f1-1b1d-4e91-cc85-ea36b7519820"
      },
      "execution_count": null,
      "outputs": [
        {
          "output_type": "execute_result",
          "data": {
            "text/plain": [
              "1453"
            ]
          },
          "metadata": {},
          "execution_count": 22
        }
      ]
    },
    {
      "cell_type": "code",
      "source": [
        "1467-1388"
      ],
      "metadata": {
        "colab": {
          "base_uri": "https://localhost:8080/"
        },
        "id": "sCX8QNjrl3aR",
        "outputId": "55aff81e-7da2-4bd5-d610-5da41097f3e3"
      },
      "execution_count": null,
      "outputs": [
        {
          "output_type": "execute_result",
          "data": {
            "text/plain": [
              "79"
            ]
          },
          "metadata": {},
          "execution_count": 47
        }
      ]
    },
    {
      "cell_type": "code",
      "source": [
        "with open('ranking_textgraphs_june.json', 'w') as f:\n",
        "    json.dump(test_json, f,ensure_ascii=False)"
      ],
      "metadata": {
        "id": "bjM-hne6gJ5f"
      },
      "execution_count": null,
      "outputs": []
    },
    {
      "cell_type": "markdown",
      "source": [
        "### Extracting predicted relations from Konstrukor"
      ],
      "metadata": {
        "id": "V6hTU857tXIT"
      }
    },
    {
      "cell_type": "code",
      "source": [
        "f = open('/content/result_ranking_june_upd.json')\n",
        "res_ranking = json.load(f)"
      ],
      "metadata": {
        "id": "Sb1Npyl7pxi1"
      },
      "execution_count": null,
      "outputs": []
    },
    {
      "cell_type": "code",
      "source": [
        "def best_label(res, line):\n",
        "    entity = -1000\n",
        "    score_b = -1000\n",
        "    label = -1000\n",
        "    for key in res['re_scores'][line].keys():\n",
        "        for j in range(len(res['re_scores'][line][key])):\n",
        "            if score_b < res['re_scores'][line][key][j][1]:\n",
        "                score_b = res['re_scores'][line][key][j][1]\n",
        "                label = res['re_scores'][line][key][j][0]\n",
        "                entity = key\n",
        "    return [entity, label]"
      ],
      "metadata": {
        "id": "5B93B8Iop4nr"
      },
      "execution_count": null,
      "outputs": []
    },
    {
      "cell_type": "code",
      "source": [
        "len(res_ranking['questions']) == len(train_triples_by_one)"
      ],
      "metadata": {
        "colab": {
          "base_uri": "https://localhost:8080/"
        },
        "id": "Q8K5HcMaq88T",
        "outputId": "16264b46-fd41-471b-e95c-894c6fb7769a"
      },
      "execution_count": null,
      "outputs": [
        {
          "output_type": "execute_result",
          "data": {
            "text/plain": [
              "True"
            ]
          },
          "metadata": {},
          "execution_count": 27
        }
      ]
    },
    {
      "cell_type": "code",
      "source": [
        "for i in tqdm(range(len(train_triples_by_one))):\n",
        "  subject_ranking, relation_ranking = best_label(res_ranking, i)\n",
        "  train_triples_by_one.loc[i, 'subject_pred'] = subject_ranking\n",
        "  train_triples_by_one.loc[i, 'relation_pred'] = relation_ranking"
      ],
      "metadata": {
        "colab": {
          "base_uri": "https://localhost:8080/"
        },
        "id": "h-gdQsu5p6Vb",
        "outputId": "e742b165-aea1-4627-cd13-c94dd2dfcee6"
      },
      "execution_count": null,
      "outputs": [
        {
          "output_type": "stream",
          "name": "stderr",
          "text": [
            "100%|██████████| 1453/1453 [00:00<00:00, 5856.33it/s]\n"
          ]
        }
      ]
    },
    {
      "cell_type": "code",
      "source": [
        "train['correct_path'] = 0"
      ],
      "metadata": {
        "id": "pCkjh3AD3ADt"
      },
      "execution_count": null,
      "outputs": []
    },
    {
      "cell_type": "code",
      "source": [
        "for i in tqdm(range(len(train))):\n",
        "\n",
        "    cur_dict = dict()\n",
        "    ques_id = train.loc[i, 'question_id']\n",
        "    train_subset = train_triples_by_one.query('question_id == @ques_id').reset_index(drop=True)\n",
        "    for j in range(len(train_subset)):\n",
        "        cur_dict[train_subset.loc[j,'questionEntity']] = train_subset.loc[j,'relation_pred']\n",
        "    for key in cur_dict:\n",
        "      if key in list(ast.literal_eval(train.loc[i, 'ques_ent_rels']).keys()):\n",
        "        if cur_dict[key] in ast.literal_eval(train.loc[i, 'ques_ent_rels'])[key]:\n",
        "          train.loc[i, 'correct_path'] += 1\n",
        "      else:\n",
        "          train_key = list(ast.literal_eval(train.loc[i, 'ques_ent_rels']).keys())\n",
        "          for e in range(len(train_key)):\n",
        "            cur_train_key = train_key[e]\n",
        "            if pd.notna(key) and pd.notna(cur_train_key):\n",
        "              if editdistance.eval(key.lower(), cur_train_key.lower()) <= 3:\n",
        "                if cur_dict[key] in ast.literal_eval(train.loc[i, 'ques_ent_rels'])[cur_train_key]:\n",
        "                  train.loc[i, 'correct_path'] += 1\n"
      ],
      "metadata": {
        "colab": {
          "base_uri": "https://localhost:8080/"
        },
        "id": "Cm7EbYcQQk6C",
        "outputId": "98ee17f9-df8c-49ee-cd83-7c9b337fa6ba"
      },
      "execution_count": null,
      "outputs": [
        {
          "output_type": "stream",
          "name": "stderr",
          "text": [
            "100%|██████████| 10961/10961 [00:34<00:00, 315.14it/s]\n"
          ]
        }
      ]
    },
    {
      "cell_type": "code",
      "source": [
        "train.to_csv('textgraphs_konstruktor_pred.csv', index = False)"
      ],
      "metadata": {
        "id": "qC3qjZMfRmgW"
      },
      "execution_count": null,
      "outputs": []
    }
  ]
}