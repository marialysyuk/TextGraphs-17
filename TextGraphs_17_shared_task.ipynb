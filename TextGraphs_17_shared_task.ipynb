{
  "nbformat": 4,
  "nbformat_minor": 0,
  "metadata": {
    "colab": {
      "provenance": []
    },
    "kernelspec": {
      "name": "python3",
      "display_name": "Python 3"
    },
    "language_info": {
      "name": "python"
    }
  },
  "cells": [
    {
      "cell_type": "code",
      "source": [
        "! pip install sister==0.1.10"
      ],
      "metadata": {
        "colab": {
          "base_uri": "https://localhost:8080/"
        },
        "id": "CtQDDE7nSqrk",
        "outputId": "6b7ac319-42e4-45f5-edca-aaae4ffff257"
      },
      "execution_count": 2,
      "outputs": [
        {
          "output_type": "stream",
          "name": "stdout",
          "text": [
            "Collecting sister==0.1.10\n",
            "  Downloading sister-0.1.10.tar.gz (24 kB)\n",
            "  Preparing metadata (setup.py) ... \u001b[?25l\u001b[?25hdone\n",
            "Collecting fasttext (from sister==0.1.10)\n",
            "  Downloading fasttext-0.9.2.tar.gz (68 kB)\n",
            "\u001b[2K     \u001b[90m━━━━━━━━━━━━━━━━━━━━━━━━━━━━━━━━━━━━━━━━\u001b[0m \u001b[32m68.8/68.8 kB\u001b[0m \u001b[31m3.6 MB/s\u001b[0m eta \u001b[36m0:00:00\u001b[0m\n",
            "\u001b[?25h  Preparing metadata (setup.py) ... \u001b[?25l\u001b[?25hdone\n",
            "Requirement already satisfied: numpy in /usr/local/lib/python3.10/dist-packages (from sister==0.1.10) (1.25.2)\n",
            "Collecting Janome (from sister==0.1.10)\n",
            "  Downloading Janome-0.5.0-py2.py3-none-any.whl (19.7 MB)\n",
            "\u001b[2K     \u001b[90m━━━━━━━━━━━━━━━━━━━━━━━━━━━━━━━━━━━━━━━━\u001b[0m \u001b[32m19.7/19.7 MB\u001b[0m \u001b[31m48.9 MB/s\u001b[0m eta \u001b[36m0:00:00\u001b[0m\n",
            "\u001b[?25hRequirement already satisfied: gensim in /usr/local/lib/python3.10/dist-packages (from sister==0.1.10) (4.3.2)\n",
            "Requirement already satisfied: joblib in /usr/local/lib/python3.10/dist-packages (from sister==0.1.10) (1.4.2)\n",
            "Collecting pybind11>=2.2 (from fasttext->sister==0.1.10)\n",
            "  Using cached pybind11-2.12.0-py3-none-any.whl (234 kB)\n",
            "Requirement already satisfied: setuptools>=0.7.0 in /usr/local/lib/python3.10/dist-packages (from fasttext->sister==0.1.10) (67.7.2)\n",
            "Requirement already satisfied: scipy>=1.7.0 in /usr/local/lib/python3.10/dist-packages (from gensim->sister==0.1.10) (1.11.4)\n",
            "Requirement already satisfied: smart-open>=1.8.1 in /usr/local/lib/python3.10/dist-packages (from gensim->sister==0.1.10) (6.4.0)\n",
            "Building wheels for collected packages: sister, fasttext\n",
            "  Building wheel for sister (setup.py) ... \u001b[?25l\u001b[?25hdone\n",
            "  Created wheel for sister: filename=sister-0.1.10-py3-none-any.whl size=5380 sha256=71fe798ba55ab50b5d356db88f75cb24a7573c1f057a1fb16f4c886ee4a1840b\n",
            "  Stored in directory: /root/.cache/pip/wheels/89/d2/02/d2ba3090f304c3c18e7287b46a1786e03316fb8741e2098eb2\n",
            "  Building wheel for fasttext (setup.py) ... \u001b[?25l\u001b[?25hdone\n",
            "  Created wheel for fasttext: filename=fasttext-0.9.2-cp310-cp310-linux_x86_64.whl size=4227142 sha256=bcb0406034df2bdd9d5b0df85e6e878d8d34fa7e49a2313f0d8c53942e66b99c\n",
            "  Stored in directory: /root/.cache/pip/wheels/a5/13/75/f811c84a8ab36eedbaef977a6a58a98990e8e0f1967f98f394\n",
            "Successfully built sister fasttext\n",
            "Installing collected packages: Janome, pybind11, fasttext, sister\n",
            "Successfully installed Janome-0.5.0 fasttext-0.9.2 pybind11-2.12.0 sister-0.1.10\n"
          ]
        }
      ]
    },
    {
      "cell_type": "code",
      "source": [
        "import pandas as pd\n",
        "import ast\n",
        "from google.colab import drive\n",
        "import sister\n",
        "from scipy.spatial import distance\n",
        "\n",
        "drive.mount('/content/drive')"
      ],
      "metadata": {
        "colab": {
          "base_uri": "https://localhost:8080/"
        },
        "id": "KnMXoTF8Ssmw",
        "outputId": "050e2090-fb7f-46e0-9fbe-722afef7685b"
      },
      "execution_count": 3,
      "outputs": [
        {
          "output_type": "stream",
          "name": "stdout",
          "text": [
            "Mounted at /content/drive\n"
          ]
        }
      ]
    },
    {
      "cell_type": "markdown",
      "source": [
        "### Read data"
      ],
      "metadata": {
        "id": "iBaJfmS6TzQA"
      }
    },
    {
      "cell_type": "code",
      "source": [
        "data = pd.read_csv('test_with_description.csv')"
      ],
      "metadata": {
        "id": "qjzyOdX5Sa3n"
      },
      "execution_count": 5,
      "outputs": []
    },
    {
      "cell_type": "code",
      "source": [
        "pred_gpt = pd.read_json(path_or_buf='/content/drive/MyDrive/Text2Graph/text2graph_test_with_answers_gpt4_answer_desc_all_posteval.jsonl', lines=True)"
      ],
      "metadata": {
        "id": "mEkp602gVXEA"
      },
      "execution_count": 6,
      "outputs": []
    },
    {
      "cell_type": "markdown",
      "source": [
        "### Extract answer from GPT CoT reasoning by spliting marker \"So the answer is:\""
      ],
      "metadata": {
        "id": "-1oCjL0KU4Uu"
      }
    },
    {
      "cell_type": "code",
      "source": [
        "for j in range(len(data)):\n",
        "  cur_ques = data.loc[j, 'question_id']\n",
        "  for k in range(len(pred_gpt)):\n",
        "    if k == cur_ques:\n",
        "       data.loc[j, 'pred_gpt'] = pred_gpt.loc[k, 'predText']"
      ],
      "metadata": {
        "id": "JCB2exP0XUAk"
      },
      "execution_count": 7,
      "outputs": []
    },
    {
      "cell_type": "code",
      "source": [
        "for i in range(len(data)):\n",
        "  data.loc[i, 'gpt_answer'] = data.loc[i, 'pred_gpt'].split('the answer is: ')[-1]"
      ],
      "metadata": {
        "id": "ggI9EM9-Yvyx"
      },
      "execution_count": 8,
      "outputs": []
    },
    {
      "cell_type": "code",
      "source": [
        "for i in range(len(data)):\n",
        "  if '**' in data.loc[i, 'gpt_answer']:\n",
        "    data.loc[i, 'gpt_answer'] = data.loc[i, 'gpt_answer'].replace('**', '')"
      ],
      "metadata": {
        "id": "wDRFAkf6n8eQ"
      },
      "execution_count": 9,
      "outputs": []
    },
    {
      "cell_type": "code",
      "source": [
        "ques_ids = set()\n",
        "for i in range(len(data)):\n",
        "  if data.loc[i, 'gpt_answer'] == data.loc[i, 'answerEntity']:\n",
        "    data.loc[i, 'prediction'] = 1\n",
        "    ques_ids.add(data.loc[i, 'question_id'])"
      ],
      "metadata": {
        "id": "MFYZQVBBZFy1"
      },
      "execution_count": 10,
      "outputs": []
    },
    {
      "cell_type": "markdown",
      "source": [
        "### Replace '.' in the end of gpt answer for the exact match"
      ],
      "metadata": {
        "id": "y6kOFerJUf9A"
      }
    },
    {
      "cell_type": "code",
      "source": [
        "for i in range(len(data)):\n",
        "  cur_answer = data.loc[i, 'gpt_answer']\n",
        "  cur_length = len(data.loc[i, 'gpt_answer'])\n",
        "  if cur_answer[-1] == \".\":\n",
        "    cur_answer = cur_answer[:cur_length-1]\n",
        "  data.loc[i, 'gpt_answer'] = cur_answer"
      ],
      "metadata": {
        "id": "Brtd3HBRa96C"
      },
      "execution_count": 11,
      "outputs": []
    },
    {
      "cell_type": "code",
      "source": [
        "for i in range(len(data)):\n",
        "  if data.loc[i, 'gpt_answer'] == data.loc[i, 'answerEntity']:\n",
        "    data.loc[i, 'prediction'] = 1\n",
        "    ques_ids.add(data.loc[i, 'question_id'])"
      ],
      "metadata": {
        "id": "T83GWoPzb3-9"
      },
      "execution_count": 12,
      "outputs": []
    },
    {
      "cell_type": "code",
      "source": [
        "for i in range(len(data)):\n",
        "  if data.loc[i, 'question_id'] in ques_ids:\n",
        "    if pd.isna(data.loc[i, 'prediction']):\n",
        "      data.loc[i, 'prediction'] = 0"
      ],
      "metadata": {
        "id": "RLl-UCiwkXPp"
      },
      "execution_count": 13,
      "outputs": []
    },
    {
      "cell_type": "code",
      "source": [
        "nonmatched_answers = []\n",
        "\n",
        "count = 0\n",
        "for k in range(1000):\n",
        "  if data.query('question_id == @k').prediction.sum() == 0:\n",
        "    nonmatched_answers.append(k)"
      ],
      "metadata": {
        "id": "bOrn7-hedzfO"
      },
      "execution_count": 14,
      "outputs": []
    },
    {
      "cell_type": "markdown",
      "source": [
        "### Iterate to match multiple possible answers"
      ],
      "metadata": {
        "id": "F5L0BKriUxR4"
      }
    },
    {
      "cell_type": "code",
      "source": [
        "to_remove = []\n",
        "for i in range(len(data)):\n",
        "  if data.loc[i, 'question_id'] in nonmatched_answers:\n",
        "    gpt_answers = data.loc[i, 'gpt_answer'].split(', ')\n",
        "    for k in range(len(gpt_answers)):\n",
        "      if gpt_answers[k] == data.loc[i, 'answerEntity']:\n",
        "        data.loc[i, 'prediction'] = 1\n",
        "        to_remove.append(data.loc[i, 'question_id'])"
      ],
      "metadata": {
        "id": "nXNaO5VtlQbz"
      },
      "execution_count": 15,
      "outputs": []
    },
    {
      "cell_type": "code",
      "source": [
        "to_remove = list(set(to_remove))"
      ],
      "metadata": {
        "id": "r_ANhsjTm6QQ"
      },
      "execution_count": 16,
      "outputs": []
    },
    {
      "cell_type": "code",
      "source": [
        "for i in range(len(data)):\n",
        "  if data.loc[i, 'question_id'] in to_remove:\n",
        "    if pd.isna(data.loc[i, 'prediction']):\n",
        "      data.loc[i, 'prediction'] = 0"
      ],
      "metadata": {
        "id": "Sgme-Q5MnFmG"
      },
      "execution_count": 17,
      "outputs": []
    },
    {
      "cell_type": "code",
      "source": [
        "nonmatched_answers = []\n",
        "\n",
        "count = 0\n",
        "for k in range(1000):\n",
        "  if data.query('question_id == @k').prediction.sum() == 0:\n",
        "    nonmatched_answers.append(k)"
      ],
      "metadata": {
        "id": "CteI7BOmnIqo"
      },
      "execution_count": 18,
      "outputs": []
    },
    {
      "cell_type": "markdown",
      "source": [
        "### Check non-exact match"
      ],
      "metadata": {
        "id": "WGyPHAT7U_nu"
      }
    },
    {
      "cell_type": "code",
      "source": [
        "for i in range(len(data)):\n",
        "  if data.loc[i, 'question_id'] in nonmatched_answers:\n",
        "    if data.loc[i, 'answerEntity'] in data.loc[i, 'gpt_answer']:\n",
        "      data.loc[i, 'prediction'] = 1\n",
        "    else:\n",
        "      data.loc[i, 'prediction'] = 0"
      ],
      "metadata": {
        "id": "9SJeTaLMd9RH"
      },
      "execution_count": 19,
      "outputs": []
    },
    {
      "cell_type": "code",
      "source": [
        "nonmatched_answers = []\n",
        "\n",
        "count = 0\n",
        "for k in range(1000):\n",
        "  if data.query('question_id == @k').prediction.sum() == 0:\n",
        "    nonmatched_answers.append(k)"
      ],
      "metadata": {
        "id": "wml5NDR_o24N"
      },
      "execution_count": 20,
      "outputs": []
    },
    {
      "cell_type": "code",
      "source": [
        "len(nonmatched_answers)"
      ],
      "metadata": {
        "colab": {
          "base_uri": "https://localhost:8080/"
        },
        "id": "Vik8m-KLo4Uc",
        "outputId": "c741710f-021e-40fe-ea9d-d245103a33e3"
      },
      "execution_count": 21,
      "outputs": [
        {
          "output_type": "execute_result",
          "data": {
            "text/plain": [
              "25"
            ]
          },
          "metadata": {},
          "execution_count": 21
        }
      ]
    },
    {
      "cell_type": "markdown",
      "source": [
        "### Fix numerous identical answers"
      ],
      "metadata": {
        "id": "ERM9vufso-e-"
      }
    },
    {
      "cell_type": "code",
      "source": [
        "nonmatched_answers = []\n",
        "\n",
        "count = 0\n",
        "for k in range(1000):\n",
        "  if data.query('question_id == @k').prediction.sum() > 1:\n",
        "    nonmatched_answers.append(k)"
      ],
      "metadata": {
        "id": "Mj1DEaVRgnjh"
      },
      "execution_count": 22,
      "outputs": []
    },
    {
      "cell_type": "code",
      "source": [
        "len(nonmatched_answers)"
      ],
      "metadata": {
        "colab": {
          "base_uri": "https://localhost:8080/"
        },
        "id": "iQR8NRzppB7y",
        "outputId": "89a34a9f-dad5-4e99-c099-6836ba4bde0c"
      },
      "execution_count": 23,
      "outputs": [
        {
          "output_type": "execute_result",
          "data": {
            "text/plain": [
              "163"
            ]
          },
          "metadata": {},
          "execution_count": 23
        }
      ]
    },
    {
      "cell_type": "markdown",
      "source": [
        "### Estimate length of subgraph"
      ],
      "metadata": {
        "id": "NbYiRhA2VOA8"
      }
    },
    {
      "cell_type": "code",
      "source": [
        "for i in range(len(data)):\n",
        "  data.loc[i, 'n_links']= len(ast.literal_eval(data.loc[i, 'graph'])['links'])"
      ],
      "metadata": {
        "id": "QPQBJGoipHNC"
      },
      "execution_count": 24,
      "outputs": []
    },
    {
      "cell_type": "markdown",
      "source": [
        "### Answers that should not be fixed (if there are multiple answers to the question and they are not identical)"
      ],
      "metadata": {
        "id": "gWNDDNnAVWZ8"
      }
    },
    {
      "cell_type": "code",
      "source": [
        "to_remove = []\n",
        "for i in range(1000):\n",
        "  test_subset = data.query('question_id == @i and prediction == 1')\n",
        "  if len(test_subset) == len(test_subset.answerEntity.unique()) and i in nonmatched_answers:\n",
        "    to_remove.append(i)"
      ],
      "metadata": {
        "id": "My8JBP-Jqj04"
      },
      "execution_count": 25,
      "outputs": []
    },
    {
      "cell_type": "code",
      "source": [
        "to_remove"
      ],
      "metadata": {
        "colab": {
          "base_uri": "https://localhost:8080/"
        },
        "id": "OMUUSn3urdUq",
        "outputId": "16a5c9f5-dbe4-4ee7-d753-fe2422ed1e74"
      },
      "execution_count": 26,
      "outputs": [
        {
          "output_type": "execute_result",
          "data": {
            "text/plain": [
              "[9, 68, 267, 290, 522, 533, 547, 556, 619, 631, 648, 658, 669, 685, 926, 981]"
            ]
          },
          "metadata": {},
          "execution_count": 26
        }
      ]
    },
    {
      "cell_type": "code",
      "source": [
        "nonmatched_answers = [elem for elem in nonmatched_answers if elem not in to_remove]"
      ],
      "metadata": {
        "id": "-xwoPnCTr8Ub"
      },
      "execution_count": 27,
      "outputs": []
    },
    {
      "cell_type": "code",
      "source": [
        "len(nonmatched_answers)"
      ],
      "metadata": {
        "colab": {
          "base_uri": "https://localhost:8080/"
        },
        "id": "JdVGqwHzyXQR",
        "outputId": "39478515-3f54-4ef0-8ad6-9f995a16ed66"
      },
      "execution_count": 28,
      "outputs": [
        {
          "output_type": "execute_result",
          "data": {
            "text/plain": [
              "147"
            ]
          },
          "metadata": {},
          "execution_count": 28
        }
      ]
    },
    {
      "cell_type": "markdown",
      "source": [
        "### Select among the multiple identical answers the ones with the minimal subgraph[Текст ссылки](https://)"
      ],
      "metadata": {
        "id": "_VBuZO29VrXW"
      }
    },
    {
      "cell_type": "code",
      "source": [
        "to_remove = []\n",
        "for i in range(len(nonmatched_answers)):\n",
        "  cur_ques = nonmatched_answers[i]\n",
        "  min_links = data.query('question_id == @cur_ques and prediction == 1').n_links.min()\n",
        "  test_subset = data.query('question_id == @cur_ques and prediction == 1 and n_links != @min_links')\n",
        "  test_inds = test_subset.index\n",
        "  if len(test_subset.answerEntity.unique()) == 1:\n",
        "    for k in range(len(test_inds)):\n",
        "      data.loc[test_inds[k], 'prediction'] = 0\n",
        "      to_remove.append(cur_ques)"
      ],
      "metadata": {
        "id": "6OLf8mrKsRb9"
      },
      "execution_count": 29,
      "outputs": []
    },
    {
      "cell_type": "code",
      "source": [
        "nonmatched_answers = [elem for elem in nonmatched_answers if elem not in to_remove]"
      ],
      "metadata": {
        "id": "L2VSzMKewzeR"
      },
      "execution_count": 30,
      "outputs": []
    },
    {
      "cell_type": "code",
      "source": [
        "len(nonmatched_answers)"
      ],
      "metadata": {
        "colab": {
          "base_uri": "https://localhost:8080/"
        },
        "id": "EPxjbvh-w3MY",
        "outputId": "caa243ce-df3c-4d5c-8181-e58784c1cb16"
      },
      "execution_count": 31,
      "outputs": [
        {
          "output_type": "execute_result",
          "data": {
            "text/plain": [
              "37"
            ]
          },
          "metadata": {},
          "execution_count": 31
        }
      ]
    },
    {
      "cell_type": "markdown",
      "source": [
        "### Select among the multiple identical answers the ones where cosine similarity of the mean fastText embeddings between question and answer is maximum"
      ],
      "metadata": {
        "id": "1e92qyelVzZK"
      }
    },
    {
      "cell_type": "code",
      "source": [
        "sentence_embedding = sister.MeanEmbedding(lang=\"en\")"
      ],
      "metadata": {
        "colab": {
          "base_uri": "https://localhost:8080/"
        },
        "id": "Cr06mraL3J2J",
        "outputId": "dfd85ff4-7a72-41e9-e73d-137b59bc1fe6"
      },
      "execution_count": 32,
      "outputs": [
        {
          "output_type": "stream",
          "name": "stderr",
          "text": [
            "Downloading from https://dl.fbaipublicfiles.com/fasttext/vectors-wiki/wiki.simple.zip...\n"
          ]
        },
        {
          "output_type": "stream",
          "name": "stdout",
          "text": [
            "Loading model...\n"
          ]
        },
        {
          "output_type": "stream",
          "name": "stderr",
          "text": [
            "Warning : `load_model` does not return WordVectorModel or SupervisedModel any more, but a `FastText` object which is very similar.\n"
          ]
        }
      ]
    },
    {
      "cell_type": "code",
      "source": [
        "to_remove = []\n",
        "for i in range(len(nonmatched_answers)):\n",
        "  cur_ques = nonmatched_answers[i]\n",
        "  test_subset = data.query('question_id == @cur_ques and prediction == 1').reset_index(drop=True)\n",
        "  sent_emb = sentence_embedding(test_subset.loc[0, 'question'])\n",
        "  best_cos_sim = 0\n",
        "  best_ind = 0\n",
        "  for k in range(len(test_subset)):\n",
        "    if pd.notna(test_subset.loc[k, 'answer_desc']):\n",
        "      cur_desc = sentence_embedding(test_subset.loc[k, 'answer_desc'])\n",
        "      if 1-distance.cosine(sent_emb, cur_desc) > best_cos_sim:\n",
        "        best_cos_sim = 1-distance.cosine(sent_emb, cur_desc)\n",
        "        best_ind = k\n",
        "  test_inds = list(data.query('question_id == @cur_ques and prediction == 1').index)\n",
        "  for q in range(len(test_inds)):\n",
        "    data.loc[test_inds[q], 'prediction'] = 0\n",
        "  data.loc[test_inds[best_ind], 'prediction'] = 1"
      ],
      "metadata": {
        "id": "LVODXYds6RTV"
      },
      "execution_count": 33,
      "outputs": []
    },
    {
      "cell_type": "markdown",
      "source": [
        "### Look at questions with multiple answers"
      ],
      "metadata": {
        "id": "eLrbYP_gWaGM"
      }
    },
    {
      "cell_type": "code",
      "source": [
        "for i in range(1000):\n",
        "  cur_ques = i\n",
        "  if data.query('question_id == @cur_ques').prediction.sum() > 1:\n",
        "    print(i)"
      ],
      "metadata": {
        "id": "qTI72VMqGU0I",
        "colab": {
          "base_uri": "https://localhost:8080/"
        },
        "outputId": "e1075dbc-b9e6-4339-bc58-2c954e7547c2"
      },
      "execution_count": 34,
      "outputs": [
        {
          "output_type": "stream",
          "name": "stdout",
          "text": [
            "9\n",
            "68\n",
            "72\n",
            "267\n",
            "290\n",
            "522\n",
            "533\n",
            "547\n",
            "556\n",
            "619\n",
            "631\n",
            "648\n",
            "658\n",
            "669\n",
            "685\n",
            "834\n",
            "926\n",
            "981\n"
          ]
        }
      ]
    },
    {
      "cell_type": "code",
      "source": [
        "data.query('question_id == 547 and prediction == 1')"
      ],
      "metadata": {
        "colab": {
          "base_uri": "https://localhost:8080/",
          "height": 660
        },
        "id": "7KIZf5hiWdy7",
        "outputId": "f691ae22-b2d5-450f-f325-2894c8a3258a"
      },
      "execution_count": 41,
      "outputs": [
        {
          "output_type": "execute_result",
          "data": {
            "text/plain": [
              "      sample_id                                           question  \\\n",
              "5994       5994  Which country joined European Union on the 1st...   \n",
              "5997       5997  Which country joined European Union on the 1st...   \n",
              "5999       5999  Which country joined European Union on the 1st...   \n",
              "6000       6000  Which country joined European Union on the 1st...   \n",
              "6002       6002  Which country joined European Union on the 1st...   \n",
              "\n",
              "      questionEntity answerEntity questionEntityId answerEntityId  \\\n",
              "5994  European Union       Cyprus             Q458       Q2967757   \n",
              "5997  European Union      Hungary             Q458            Q28   \n",
              "5999  European Union       Poland             Q458            Q36   \n",
              "6000  European Union     Slovakia             Q458           Q214   \n",
              "6002  European Union     Slovenia             Q458           Q215   \n",
              "\n",
              "                                                  graph  question_id  \\\n",
              "5994  {'nodes': [{'type': 'INTERNAL', 'name_': 'Q617...        547.0   \n",
              "5997  {'nodes': [{'type': 'QUESTIONS_ENTITY', 'name_...        547.0   \n",
              "5999  {'nodes': [{'type': 'QUESTIONS_ENTITY', 'name_...        547.0   \n",
              "6000  {'nodes': [{'type': 'QUESTIONS_ENTITY', 'name_...        547.0   \n",
              "6002  {'nodes': [{'type': 'QUESTIONS_ENTITY', 'name_...        547.0   \n",
              "\n",
              "                    answer_desc  \\\n",
              "5994            Roman provincia   \n",
              "5997  country in Central Europe   \n",
              "5999  country in Central Europe   \n",
              "6000  country in Central Europe   \n",
              "6002  country in Central Europe   \n",
              "\n",
              "                                               pred_gpt  \\\n",
              "5994  To find out which country joined the European ...   \n",
              "5997  To find out which country joined the European ...   \n",
              "5999  To find out which country joined the European ...   \n",
              "6000  To find out which country joined the European ...   \n",
              "6002  To find out which country joined the European ...   \n",
              "\n",
              "                                       gpt_answer  prediction  n_links  \n",
              "5994  Cyprus, Hungary, Poland, Slovakia, Slovenia         1.0      3.0  \n",
              "5997  Cyprus, Hungary, Poland, Slovakia, Slovenia         1.0      3.0  \n",
              "5999  Cyprus, Hungary, Poland, Slovakia, Slovenia         1.0      3.0  \n",
              "6000  Cyprus, Hungary, Poland, Slovakia, Slovenia         1.0      3.0  \n",
              "6002  Cyprus, Hungary, Poland, Slovakia, Slovenia         1.0      3.0  "
            ],
            "text/html": [
              "\n",
              "  <div id=\"df-794ca206-7ea0-4f60-a3d3-f6d59afed124\" class=\"colab-df-container\">\n",
              "    <div>\n",
              "<style scoped>\n",
              "    .dataframe tbody tr th:only-of-type {\n",
              "        vertical-align: middle;\n",
              "    }\n",
              "\n",
              "    .dataframe tbody tr th {\n",
              "        vertical-align: top;\n",
              "    }\n",
              "\n",
              "    .dataframe thead th {\n",
              "        text-align: right;\n",
              "    }\n",
              "</style>\n",
              "<table border=\"1\" class=\"dataframe\">\n",
              "  <thead>\n",
              "    <tr style=\"text-align: right;\">\n",
              "      <th></th>\n",
              "      <th>sample_id</th>\n",
              "      <th>question</th>\n",
              "      <th>questionEntity</th>\n",
              "      <th>answerEntity</th>\n",
              "      <th>questionEntityId</th>\n",
              "      <th>answerEntityId</th>\n",
              "      <th>graph</th>\n",
              "      <th>question_id</th>\n",
              "      <th>answer_desc</th>\n",
              "      <th>pred_gpt</th>\n",
              "      <th>gpt_answer</th>\n",
              "      <th>prediction</th>\n",
              "      <th>n_links</th>\n",
              "    </tr>\n",
              "  </thead>\n",
              "  <tbody>\n",
              "    <tr>\n",
              "      <th>5994</th>\n",
              "      <td>5994</td>\n",
              "      <td>Which country joined European Union on the 1st...</td>\n",
              "      <td>European Union</td>\n",
              "      <td>Cyprus</td>\n",
              "      <td>Q458</td>\n",
              "      <td>Q2967757</td>\n",
              "      <td>{'nodes': [{'type': 'INTERNAL', 'name_': 'Q617...</td>\n",
              "      <td>547.0</td>\n",
              "      <td>Roman provincia</td>\n",
              "      <td>To find out which country joined the European ...</td>\n",
              "      <td>Cyprus, Hungary, Poland, Slovakia, Slovenia</td>\n",
              "      <td>1.0</td>\n",
              "      <td>3.0</td>\n",
              "    </tr>\n",
              "    <tr>\n",
              "      <th>5997</th>\n",
              "      <td>5997</td>\n",
              "      <td>Which country joined European Union on the 1st...</td>\n",
              "      <td>European Union</td>\n",
              "      <td>Hungary</td>\n",
              "      <td>Q458</td>\n",
              "      <td>Q28</td>\n",
              "      <td>{'nodes': [{'type': 'QUESTIONS_ENTITY', 'name_...</td>\n",
              "      <td>547.0</td>\n",
              "      <td>country in Central Europe</td>\n",
              "      <td>To find out which country joined the European ...</td>\n",
              "      <td>Cyprus, Hungary, Poland, Slovakia, Slovenia</td>\n",
              "      <td>1.0</td>\n",
              "      <td>3.0</td>\n",
              "    </tr>\n",
              "    <tr>\n",
              "      <th>5999</th>\n",
              "      <td>5999</td>\n",
              "      <td>Which country joined European Union on the 1st...</td>\n",
              "      <td>European Union</td>\n",
              "      <td>Poland</td>\n",
              "      <td>Q458</td>\n",
              "      <td>Q36</td>\n",
              "      <td>{'nodes': [{'type': 'QUESTIONS_ENTITY', 'name_...</td>\n",
              "      <td>547.0</td>\n",
              "      <td>country in Central Europe</td>\n",
              "      <td>To find out which country joined the European ...</td>\n",
              "      <td>Cyprus, Hungary, Poland, Slovakia, Slovenia</td>\n",
              "      <td>1.0</td>\n",
              "      <td>3.0</td>\n",
              "    </tr>\n",
              "    <tr>\n",
              "      <th>6000</th>\n",
              "      <td>6000</td>\n",
              "      <td>Which country joined European Union on the 1st...</td>\n",
              "      <td>European Union</td>\n",
              "      <td>Slovakia</td>\n",
              "      <td>Q458</td>\n",
              "      <td>Q214</td>\n",
              "      <td>{'nodes': [{'type': 'QUESTIONS_ENTITY', 'name_...</td>\n",
              "      <td>547.0</td>\n",
              "      <td>country in Central Europe</td>\n",
              "      <td>To find out which country joined the European ...</td>\n",
              "      <td>Cyprus, Hungary, Poland, Slovakia, Slovenia</td>\n",
              "      <td>1.0</td>\n",
              "      <td>3.0</td>\n",
              "    </tr>\n",
              "    <tr>\n",
              "      <th>6002</th>\n",
              "      <td>6002</td>\n",
              "      <td>Which country joined European Union on the 1st...</td>\n",
              "      <td>European Union</td>\n",
              "      <td>Slovenia</td>\n",
              "      <td>Q458</td>\n",
              "      <td>Q215</td>\n",
              "      <td>{'nodes': [{'type': 'QUESTIONS_ENTITY', 'name_...</td>\n",
              "      <td>547.0</td>\n",
              "      <td>country in Central Europe</td>\n",
              "      <td>To find out which country joined the European ...</td>\n",
              "      <td>Cyprus, Hungary, Poland, Slovakia, Slovenia</td>\n",
              "      <td>1.0</td>\n",
              "      <td>3.0</td>\n",
              "    </tr>\n",
              "  </tbody>\n",
              "</table>\n",
              "</div>\n",
              "    <div class=\"colab-df-buttons\">\n",
              "\n",
              "  <div class=\"colab-df-container\">\n",
              "    <button class=\"colab-df-convert\" onclick=\"convertToInteractive('df-794ca206-7ea0-4f60-a3d3-f6d59afed124')\"\n",
              "            title=\"Convert this dataframe to an interactive table.\"\n",
              "            style=\"display:none;\">\n",
              "\n",
              "  <svg xmlns=\"http://www.w3.org/2000/svg\" height=\"24px\" viewBox=\"0 -960 960 960\">\n",
              "    <path d=\"M120-120v-720h720v720H120Zm60-500h600v-160H180v160Zm220 220h160v-160H400v160Zm0 220h160v-160H400v160ZM180-400h160v-160H180v160Zm440 0h160v-160H620v160ZM180-180h160v-160H180v160Zm440 0h160v-160H620v160Z\"/>\n",
              "  </svg>\n",
              "    </button>\n",
              "\n",
              "  <style>\n",
              "    .colab-df-container {\n",
              "      display:flex;\n",
              "      gap: 12px;\n",
              "    }\n",
              "\n",
              "    .colab-df-convert {\n",
              "      background-color: #E8F0FE;\n",
              "      border: none;\n",
              "      border-radius: 50%;\n",
              "      cursor: pointer;\n",
              "      display: none;\n",
              "      fill: #1967D2;\n",
              "      height: 32px;\n",
              "      padding: 0 0 0 0;\n",
              "      width: 32px;\n",
              "    }\n",
              "\n",
              "    .colab-df-convert:hover {\n",
              "      background-color: #E2EBFA;\n",
              "      box-shadow: 0px 1px 2px rgba(60, 64, 67, 0.3), 0px 1px 3px 1px rgba(60, 64, 67, 0.15);\n",
              "      fill: #174EA6;\n",
              "    }\n",
              "\n",
              "    .colab-df-buttons div {\n",
              "      margin-bottom: 4px;\n",
              "    }\n",
              "\n",
              "    [theme=dark] .colab-df-convert {\n",
              "      background-color: #3B4455;\n",
              "      fill: #D2E3FC;\n",
              "    }\n",
              "\n",
              "    [theme=dark] .colab-df-convert:hover {\n",
              "      background-color: #434B5C;\n",
              "      box-shadow: 0px 1px 3px 1px rgba(0, 0, 0, 0.15);\n",
              "      filter: drop-shadow(0px 1px 2px rgba(0, 0, 0, 0.3));\n",
              "      fill: #FFFFFF;\n",
              "    }\n",
              "  </style>\n",
              "\n",
              "    <script>\n",
              "      const buttonEl =\n",
              "        document.querySelector('#df-794ca206-7ea0-4f60-a3d3-f6d59afed124 button.colab-df-convert');\n",
              "      buttonEl.style.display =\n",
              "        google.colab.kernel.accessAllowed ? 'block' : 'none';\n",
              "\n",
              "      async function convertToInteractive(key) {\n",
              "        const element = document.querySelector('#df-794ca206-7ea0-4f60-a3d3-f6d59afed124');\n",
              "        const dataTable =\n",
              "          await google.colab.kernel.invokeFunction('convertToInteractive',\n",
              "                                                    [key], {});\n",
              "        if (!dataTable) return;\n",
              "\n",
              "        const docLinkHtml = 'Like what you see? Visit the ' +\n",
              "          '<a target=\"_blank\" href=https://colab.research.google.com/notebooks/data_table.ipynb>data table notebook</a>'\n",
              "          + ' to learn more about interactive tables.';\n",
              "        element.innerHTML = '';\n",
              "        dataTable['output_type'] = 'display_data';\n",
              "        await google.colab.output.renderOutput(dataTable, element);\n",
              "        const docLink = document.createElement('div');\n",
              "        docLink.innerHTML = docLinkHtml;\n",
              "        element.appendChild(docLink);\n",
              "      }\n",
              "    </script>\n",
              "  </div>\n",
              "\n",
              "\n",
              "<div id=\"df-ffcdce09-a5f9-45ae-9d52-61e576924e48\">\n",
              "  <button class=\"colab-df-quickchart\" onclick=\"quickchart('df-ffcdce09-a5f9-45ae-9d52-61e576924e48')\"\n",
              "            title=\"Suggest charts\"\n",
              "            style=\"display:none;\">\n",
              "\n",
              "<svg xmlns=\"http://www.w3.org/2000/svg\" height=\"24px\"viewBox=\"0 0 24 24\"\n",
              "     width=\"24px\">\n",
              "    <g>\n",
              "        <path d=\"M19 3H5c-1.1 0-2 .9-2 2v14c0 1.1.9 2 2 2h14c1.1 0 2-.9 2-2V5c0-1.1-.9-2-2-2zM9 17H7v-7h2v7zm4 0h-2V7h2v10zm4 0h-2v-4h2v4z\"/>\n",
              "    </g>\n",
              "</svg>\n",
              "  </button>\n",
              "\n",
              "<style>\n",
              "  .colab-df-quickchart {\n",
              "      --bg-color: #E8F0FE;\n",
              "      --fill-color: #1967D2;\n",
              "      --hover-bg-color: #E2EBFA;\n",
              "      --hover-fill-color: #174EA6;\n",
              "      --disabled-fill-color: #AAA;\n",
              "      --disabled-bg-color: #DDD;\n",
              "  }\n",
              "\n",
              "  [theme=dark] .colab-df-quickchart {\n",
              "      --bg-color: #3B4455;\n",
              "      --fill-color: #D2E3FC;\n",
              "      --hover-bg-color: #434B5C;\n",
              "      --hover-fill-color: #FFFFFF;\n",
              "      --disabled-bg-color: #3B4455;\n",
              "      --disabled-fill-color: #666;\n",
              "  }\n",
              "\n",
              "  .colab-df-quickchart {\n",
              "    background-color: var(--bg-color);\n",
              "    border: none;\n",
              "    border-radius: 50%;\n",
              "    cursor: pointer;\n",
              "    display: none;\n",
              "    fill: var(--fill-color);\n",
              "    height: 32px;\n",
              "    padding: 0;\n",
              "    width: 32px;\n",
              "  }\n",
              "\n",
              "  .colab-df-quickchart:hover {\n",
              "    background-color: var(--hover-bg-color);\n",
              "    box-shadow: 0 1px 2px rgba(60, 64, 67, 0.3), 0 1px 3px 1px rgba(60, 64, 67, 0.15);\n",
              "    fill: var(--button-hover-fill-color);\n",
              "  }\n",
              "\n",
              "  .colab-df-quickchart-complete:disabled,\n",
              "  .colab-df-quickchart-complete:disabled:hover {\n",
              "    background-color: var(--disabled-bg-color);\n",
              "    fill: var(--disabled-fill-color);\n",
              "    box-shadow: none;\n",
              "  }\n",
              "\n",
              "  .colab-df-spinner {\n",
              "    border: 2px solid var(--fill-color);\n",
              "    border-color: transparent;\n",
              "    border-bottom-color: var(--fill-color);\n",
              "    animation:\n",
              "      spin 1s steps(1) infinite;\n",
              "  }\n",
              "\n",
              "  @keyframes spin {\n",
              "    0% {\n",
              "      border-color: transparent;\n",
              "      border-bottom-color: var(--fill-color);\n",
              "      border-left-color: var(--fill-color);\n",
              "    }\n",
              "    20% {\n",
              "      border-color: transparent;\n",
              "      border-left-color: var(--fill-color);\n",
              "      border-top-color: var(--fill-color);\n",
              "    }\n",
              "    30% {\n",
              "      border-color: transparent;\n",
              "      border-left-color: var(--fill-color);\n",
              "      border-top-color: var(--fill-color);\n",
              "      border-right-color: var(--fill-color);\n",
              "    }\n",
              "    40% {\n",
              "      border-color: transparent;\n",
              "      border-right-color: var(--fill-color);\n",
              "      border-top-color: var(--fill-color);\n",
              "    }\n",
              "    60% {\n",
              "      border-color: transparent;\n",
              "      border-right-color: var(--fill-color);\n",
              "    }\n",
              "    80% {\n",
              "      border-color: transparent;\n",
              "      border-right-color: var(--fill-color);\n",
              "      border-bottom-color: var(--fill-color);\n",
              "    }\n",
              "    90% {\n",
              "      border-color: transparent;\n",
              "      border-bottom-color: var(--fill-color);\n",
              "    }\n",
              "  }\n",
              "</style>\n",
              "\n",
              "  <script>\n",
              "    async function quickchart(key) {\n",
              "      const quickchartButtonEl =\n",
              "        document.querySelector('#' + key + ' button');\n",
              "      quickchartButtonEl.disabled = true;  // To prevent multiple clicks.\n",
              "      quickchartButtonEl.classList.add('colab-df-spinner');\n",
              "      try {\n",
              "        const charts = await google.colab.kernel.invokeFunction(\n",
              "            'suggestCharts', [key], {});\n",
              "      } catch (error) {\n",
              "        console.error('Error during call to suggestCharts:', error);\n",
              "      }\n",
              "      quickchartButtonEl.classList.remove('colab-df-spinner');\n",
              "      quickchartButtonEl.classList.add('colab-df-quickchart-complete');\n",
              "    }\n",
              "    (() => {\n",
              "      let quickchartButtonEl =\n",
              "        document.querySelector('#df-ffcdce09-a5f9-45ae-9d52-61e576924e48 button');\n",
              "      quickchartButtonEl.style.display =\n",
              "        google.colab.kernel.accessAllowed ? 'block' : 'none';\n",
              "    })();\n",
              "  </script>\n",
              "</div>\n",
              "    </div>\n",
              "  </div>\n"
            ],
            "application/vnd.google.colaboratory.intrinsic+json": {
              "type": "dataframe",
              "summary": "{\n  \"name\": \"data\",\n  \"rows\": 5,\n  \"fields\": [\n    {\n      \"column\": \"sample_id\",\n      \"properties\": {\n        \"dtype\": \"number\",\n        \"std\": 3,\n        \"min\": 5994,\n        \"max\": 6002,\n        \"num_unique_values\": 5,\n        \"samples\": [\n          5997,\n          6002,\n          5999\n        ],\n        \"semantic_type\": \"\",\n        \"description\": \"\"\n      }\n    },\n    {\n      \"column\": \"question\",\n      \"properties\": {\n        \"dtype\": \"category\",\n        \"num_unique_values\": 1,\n        \"samples\": [\n          \"Which country joined European Union on the 1st of May 2004?\"\n        ],\n        \"semantic_type\": \"\",\n        \"description\": \"\"\n      }\n    },\n    {\n      \"column\": \"questionEntity\",\n      \"properties\": {\n        \"dtype\": \"category\",\n        \"num_unique_values\": 1,\n        \"samples\": [\n          \"European Union\"\n        ],\n        \"semantic_type\": \"\",\n        \"description\": \"\"\n      }\n    },\n    {\n      \"column\": \"answerEntity\",\n      \"properties\": {\n        \"dtype\": \"string\",\n        \"num_unique_values\": 5,\n        \"samples\": [\n          \"Hungary\"\n        ],\n        \"semantic_type\": \"\",\n        \"description\": \"\"\n      }\n    },\n    {\n      \"column\": \"questionEntityId\",\n      \"properties\": {\n        \"dtype\": \"category\",\n        \"num_unique_values\": 1,\n        \"samples\": [\n          \"Q458\"\n        ],\n        \"semantic_type\": \"\",\n        \"description\": \"\"\n      }\n    },\n    {\n      \"column\": \"answerEntityId\",\n      \"properties\": {\n        \"dtype\": \"string\",\n        \"num_unique_values\": 5,\n        \"samples\": [\n          \"Q28\"\n        ],\n        \"semantic_type\": \"\",\n        \"description\": \"\"\n      }\n    },\n    {\n      \"column\": \"graph\",\n      \"properties\": {\n        \"dtype\": \"string\",\n        \"num_unique_values\": 5,\n        \"samples\": [\n          \"{'nodes': [{'type': 'QUESTIONS_ENTITY', 'name_': 'Q458', 'id': 0, 'label': 'European Union'}, {'type': 'ANSWER_CANDIDATE_ENTITY', 'name_': 'Q28', 'id': 1, 'label': 'Hungary'}], 'links': [{'name_': 'P47', 'source': 0, 'target': 1, 'label': 'shares border with'}, {'name_': 'P463', 'source': 1, 'target': 0, 'label': 'member of'}, {'name_': 'P17', 'source': 1, 'target': 1, 'label': 'country'}]}\"\n        ],\n        \"semantic_type\": \"\",\n        \"description\": \"\"\n      }\n    },\n    {\n      \"column\": \"question_id\",\n      \"properties\": {\n        \"dtype\": \"number\",\n        \"std\": 0.0,\n        \"min\": 547.0,\n        \"max\": 547.0,\n        \"num_unique_values\": 1,\n        \"samples\": [\n          547.0\n        ],\n        \"semantic_type\": \"\",\n        \"description\": \"\"\n      }\n    },\n    {\n      \"column\": \"answer_desc\",\n      \"properties\": {\n        \"dtype\": \"category\",\n        \"num_unique_values\": 2,\n        \"samples\": [\n          \"country in Central Europe\"\n        ],\n        \"semantic_type\": \"\",\n        \"description\": \"\"\n      }\n    },\n    {\n      \"column\": \"pred_gpt\",\n      \"properties\": {\n        \"dtype\": \"category\",\n        \"num_unique_values\": 1,\n        \"samples\": [\n          \"To find out which country joined the European Union on the 1st of May 2004, we need to look at the current countries in the list of possible answers, because historical entities or languages cannot join international organizations:\\n\\n1. **Croatia** - While Croatia is indeed a country that joined the EU, it did so on July 1, 2013, not in 2004.\\n2. **Crown of the Kingdom of Poland** - This is a historical entity, not a current country.\\n3. **Cyprus** - Cyprus is a country that joined the European Union on the 1nd of May, 2004.\\n4. **Federal Republic of Yugoslavia** - This is a former country and cannot be the correct answer.\\n5. **Hungarian People's Republic** - This is a historical term, not a current country.\\n6. **Hungary** - Hungary is a country that joined the European Union on the 1st of May, 2004.\\n7. **Kingdom of Croatia** - This is a historical entity, not a current country.\\n8. **Poland** - Poland is another country that joined the European Union on the 1st of May, 2004.\\n9. **Slovakia** - Slovakia also joined the EU on May 1, 2004.\\n10. **Slovene** - This is a language, not a country.\\n11. **Slovenia** - Slovenia is yet another country that became a member of the European Union on the 1st of May, 2004.\\n\\nFrom the options available, Cyprus, Hungary, Poland, Slovakia, and Slovenia are correct but we need to choose one from the list provided that matches the correct answer for the given question.\\n\\nGiven the actual historical accession date, among the options, **Cyprus**, **Hungary**, **Poland**, **Slovakia**, and **Slovenia** all joined the EU on the 1st of May 2004.\\n\\nSo the answer is: Cyprus, Hungary, Poland, Slovakia, Slovenia\"\n        ],\n        \"semantic_type\": \"\",\n        \"description\": \"\"\n      }\n    },\n    {\n      \"column\": \"gpt_answer\",\n      \"properties\": {\n        \"dtype\": \"category\",\n        \"num_unique_values\": 1,\n        \"samples\": [\n          \"Cyprus, Hungary, Poland, Slovakia, Slovenia\"\n        ],\n        \"semantic_type\": \"\",\n        \"description\": \"\"\n      }\n    },\n    {\n      \"column\": \"prediction\",\n      \"properties\": {\n        \"dtype\": \"number\",\n        \"std\": 0.0,\n        \"min\": 1.0,\n        \"max\": 1.0,\n        \"num_unique_values\": 1,\n        \"samples\": [\n          1.0\n        ],\n        \"semantic_type\": \"\",\n        \"description\": \"\"\n      }\n    },\n    {\n      \"column\": \"n_links\",\n      \"properties\": {\n        \"dtype\": \"number\",\n        \"std\": 0.0,\n        \"min\": 3.0,\n        \"max\": 3.0,\n        \"num_unique_values\": 1,\n        \"samples\": [\n          3.0\n        ],\n        \"semantic_type\": \"\",\n        \"description\": \"\"\n      }\n    }\n  ]\n}"
            }
          },
          "metadata": {},
          "execution_count": 41
        }
      ]
    },
    {
      "cell_type": "markdown",
      "source": [
        "### Check amount of ones and zeros in the final submit"
      ],
      "metadata": {
        "id": "DzhelHDFXAlD"
      }
    },
    {
      "cell_type": "code",
      "source": [
        "data.prediction.value_counts()"
      ],
      "metadata": {
        "colab": {
          "base_uri": "https://localhost:8080/"
        },
        "id": "M2xCHT29P_3R",
        "outputId": "161fcf37-25be-4341-8941-7aef55b806fa"
      },
      "execution_count": 42,
      "outputs": [
        {
          "output_type": "execute_result",
          "data": {
            "text/plain": [
              "prediction\n",
              "0.0    9949\n",
              "1.0    1012\n",
              "Name: count, dtype: int64"
            ]
          },
          "metadata": {},
          "execution_count": 42
        }
      ]
    },
    {
      "cell_type": "code",
      "source": [
        "9949+1012 == len(data)"
      ],
      "metadata": {
        "colab": {
          "base_uri": "https://localhost:8080/"
        },
        "id": "gAq-VPuCQSnz",
        "outputId": "696b25e0-4d86-472d-9466-da3d933a90b7"
      },
      "execution_count": 43,
      "outputs": [
        {
          "output_type": "execute_result",
          "data": {
            "text/plain": [
              "True"
            ]
          },
          "metadata": {},
          "execution_count": 43
        }
      ]
    },
    {
      "cell_type": "markdown",
      "source": [
        "### Create final submission file"
      ],
      "metadata": {
        "id": "BHW9U8TXXGka"
      }
    },
    {
      "cell_type": "code",
      "source": [
        "data[['sample_id', 'prediction']].to_csv(\"post_eval_answer_desc.tsv\", sep=\"\\t\", index=False)"
      ],
      "metadata": {
        "id": "WLkNKXkSQe7T"
      },
      "execution_count": 44,
      "outputs": []
    }
  ]
}