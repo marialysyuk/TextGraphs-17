{
 "cells": [
  {
   "cell_type": "code",
   "execution_count": 1,
   "id": "6783c299-75ed-463c-b48d-e4ca5c3fa81f",
   "metadata": {},
   "outputs": [],
   "source": [
    "import requests\n",
    "import time\n",
    "def return_answer_desc(entity_id):\n",
    "    \n",
    "    url = \"https://query.wikidata.org/sparql\"\n",
    "    query = \"\"\"\n",
    "          PREFIX rdfs: <htxtp://www.w3.org/2000/01/rdf-schema#> \n",
    "\n",
    "\n",
    "          SELECT ?cur_Desc\n",
    "    WHERE {\n",
    "      SERVICE wikibase:label {\n",
    "        bd:serviceParam wikibase:language \"en\" .\n",
    "        wd:<ENTITY> rdfs:label ?cur_Label .\n",
    "        wd:<ENTITY> schema:description ?cur_Desc .\n",
    "      }}\n",
    "                \"\"\".replace(\n",
    "                    \"<ENTITY>\", entity_id)\n",
    "    request = requests.get(url, params={\"format\": \"json\", \"query\": query})\n",
    "    data = request.json()\n",
    "    \n",
    "    return data['results']['bindings'][0]['cur_Desc']['value']"
   ]
  },
  {
   "cell_type": "code",
   "execution_count": 2,
   "id": "eed73ee6-861e-45d7-8a61-d2803fa86ed8",
   "metadata": {},
   "outputs": [
    {
     "data": {
      "text/plain": [
       "'1939–1945 global conflict'"
      ]
     },
     "execution_count": 2,
     "metadata": {},
     "output_type": "execute_result"
    }
   ],
   "source": [
    "return_answer_desc('Q362')"
   ]
  }
 ],
 "metadata": {
  "kernelspec": {
   "display_name": "Python 3 (ipykernel)",
   "language": "python",
   "name": "python3"
  },
  "language_info": {
   "codemirror_mode": {
    "name": "ipython",
    "version": 3
   },
   "file_extension": ".py",
   "mimetype": "text/x-python",
   "name": "python",
   "nbconvert_exporter": "python",
   "pygments_lexer": "ipython3",
   "version": "3.8.10"
  }
 },
 "nbformat": 4,
 "nbformat_minor": 5
}
